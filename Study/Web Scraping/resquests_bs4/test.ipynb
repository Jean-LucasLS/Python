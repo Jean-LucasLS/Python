{
 "cells": [
  {
   "cell_type": "code",
   "execution_count": 11,
   "metadata": {},
   "outputs": [
    {
     "name": "stdout",
     "output_type": "stream",
     "text": [
      "Erro ao obter a página. Código de status: 403\n",
      "Não foi possível obter o preço do produto.\n"
     ]
    }
   ],
   "source": [
    "import requests\n",
    "from bs4 import BeautifulSoup\n",
    "\n",
    "def obter_preco_produto(url):\n",
    "    try:\n",
    "        # Faz a requisição HTTP para obter o conteúdo da página\n",
    "        response = requests.get(url)\n",
    "\n",
    "        # Verifica se a requisição foi bem sucedida (código de status 200)\n",
    "        if response.status_code == 200:\n",
    "            # Cria o objeto BeautifulSoup para fazer o parsing do HTML\n",
    "            soup = BeautifulSoup(response.text, 'html.parser')\n",
    "\n",
    "            # Você pode inspecionar o elemento da página para encontrar a classe correta\n",
    "            data = soup.select_one('body > div.main > div.container > div:nth-child(2) > div.col-sm-auto > div > div:nth-child(1) > span.data-value.cotacao-preco')\n",
    "\n",
    "            if data:\n",
    "                target = data.text.strip()\n",
    "                return target\n",
    "            else:\n",
    "                print(\"Não foi possível encontrar o preço do produto.\")\n",
    "                return None\n",
    "        else:\n",
    "            print(f\"Erro ao obter a página. Código de status: {response.status_code}\")\n",
    "            return None\n",
    "          \n",
    "    except requests.exceptions.RequestException as e:\n",
    "        print(f\"Erro na requisição HTTP: {e}\")\n",
    "        return None\n",
    "\n",
    "def main():\n",
    "    url = 'https://www.fundamentus.com.br/detalhes.php?papel=SUZB3&h=1'  # Substitua pelo URL do produto desejado\n",
    "    data = obter_preco_produto(url)\n",
    "\n",
    "    if data:\n",
    "        print(f\"O valor é: {data}\")\n",
    "    else:\n",
    "        print(\"Não foi possível obter o preço do produto.\")\n",
    "\n",
    "if __name__ == \"__main__\":\n",
    "    main()"
   ]
  }
 ],
 "metadata": {
  "kernelspec": {
   "display_name": "Python 3",
   "language": "python",
   "name": "python3"
  },
  "language_info": {
   "codemirror_mode": {
    "name": "ipython",
    "version": 3
   },
   "file_extension": ".py",
   "mimetype": "text/x-python",
   "name": "python",
   "nbconvert_exporter": "python",
   "pygments_lexer": "ipython3",
   "version": "3.11.3"
  },
  "orig_nbformat": 4
 },
 "nbformat": 4,
 "nbformat_minor": 2
}
