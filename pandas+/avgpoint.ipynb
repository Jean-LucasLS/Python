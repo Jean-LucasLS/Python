{
 "cells": [
  {
   "cell_type": "code",
   "execution_count": 2,
   "metadata": {},
   "outputs": [
    {
     "name": "stdout",
     "output_type": "stream",
     "text": [
      "Média Final:  6.619\n"
     ]
    }
   ],
   "source": [
    "######## NOTA # PESO ########\n",
    "prelab = 8.98 * 0.10\n",
    "ativ   = 0.00 * 0.10\n",
    "relat  = 7.47 * 0.30\n",
    "prova  = 8.70 * 0.40\n",
    "at_ext = 0.00 * 0.10\n",
    "\n",
    "MEDIA_FINAL = prelab + ativ + relat + prova + at_ext\n",
    "print('Média Final: ', MEDIA_FINAL)"
   ]
  }
 ],
 "metadata": {
  "kernelspec": {
   "display_name": "Python 3",
   "language": "python",
   "name": "python3"
  },
  "language_info": {
   "codemirror_mode": {
    "name": "ipython",
    "version": 3
   },
   "file_extension": ".py",
   "mimetype": "text/x-python",
   "name": "python",
   "nbconvert_exporter": "python",
   "pygments_lexer": "ipython3",
   "version": "3.11.3"
  },
  "orig_nbformat": 4
 },
 "nbformat": 4,
 "nbformat_minor": 2
}
